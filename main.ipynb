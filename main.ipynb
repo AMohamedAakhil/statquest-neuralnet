{
 "cells": [
  {
   "cell_type": "code",
   "execution_count": 1,
   "id": "0cd7e9ce-5a1d-4c88-ab0b-fc84beab2aa8",
   "metadata": {},
   "outputs": [],
   "source": [
    "import pandas as pd\n",
    "import numpy as np\n",
    "import matplotlib.pyplot as plt\n",
    "import seaborn as sns\n",
    "import warnings\n",
    "\n",
    "warnings.filterwarnings('ignore') "
   ]
  },
  {
   "cell_type": "code",
   "execution_count": 17,
   "id": "9437dcf6-0953-4105-9bcf-2815a32d2ae3",
   "metadata": {},
   "outputs": [
    {
     "name": "stdout",
     "output_type": "stream",
     "text": [
      "tensor([[0.5538, 0.0731],\n",
      "        [0.5708, 0.6293]])\n",
      "tensor([[0.9051, 0.5920],\n",
      "        [0.6512, 0.0283]])\n"
     ]
    }
   ],
   "source": [
    "import torch \n",
    "\n",
    "x = torch.rand(2, 2)\n",
    "y = torch.rand(2, 2)\n",
    "\n",
    "print(x)\n",
    "print(y)"
   ]
  },
  {
   "cell_type": "code",
   "execution_count": 23,
   "id": "22432193-aaad-40f3-b2b8-1592340efbbb",
   "metadata": {},
   "outputs": [
    {
     "name": "stdout",
     "output_type": "stream",
     "text": [
      "tensor([[2.0127, 0.7383],\n",
      "        [1.7929, 1.2870]])\n"
     ]
    }
   ],
   "source": [
    "y.add_(x)\n",
    "print(y)"
   ]
  },
  {
   "cell_type": "code",
   "execution_count": 24,
   "id": "ac2b8be5-8000-468e-9d53-fa45c78c80b1",
   "metadata": {},
   "outputs": [
    {
     "data": {
      "text/plain": [
       "tensor([0.4059, 0.6461, 0.7666, 0.5791, 0.2170, 0.6043, 0.2774, 0.5609, 0.5124,\n",
       "        0.4972, 0.4291, 0.9205, 0.0879, 0.8679, 0.1488])"
      ]
     },
     "execution_count": 24,
     "metadata": {},
     "output_type": "execute_result"
    }
   ],
   "source": [
    "x = torch.rand(5, 3)\n",
    "y = torch.rand(10, 3)\n",
    "\n",
    "x.view(15)"
   ]
  },
  {
   "cell_type": "code",
   "execution_count": 27,
   "id": "16e0e465-3d52-46a1-a6e5-20b0179ddb6a",
   "metadata": {},
   "outputs": [
    {
     "data": {
      "text/plain": [
       "tensor([0.7050, 0.4281, 0.8881, 0.4770, 0.9802, 0.4816, 0.7467, 0.9507, 0.7683,\n",
       "        0.4220, 0.6503, 0.5785, 0.7821, 0.2963, 0.7044, 0.3773, 0.5743, 0.9583,\n",
       "        0.1831, 0.0684, 0.6315, 0.8138, 0.0367, 0.9421, 0.9448, 0.9367, 0.2518,\n",
       "        0.6511, 0.8605, 0.1954])"
      ]
     },
     "execution_count": 27,
     "metadata": {},
     "output_type": "execute_result"
    }
   ],
   "source": [
    "y.view(30)"
   ]
  },
  {
   "cell_type": "code",
   "execution_count": 30,
   "id": "e521df33-47fe-451d-b280-eb4435d395dc",
   "metadata": {},
   "outputs": [
    {
     "data": {
      "text/plain": [
       "False"
      ]
     },
     "execution_count": 30,
     "metadata": {},
     "output_type": "execute_result"
    }
   ],
   "source": [
    "torch.cuda.is_available()"
   ]
  },
  {
   "cell_type": "code",
   "execution_count": null,
   "id": "7b66c8fe-6200-452c-97e4-0469cb0bb64e",
   "metadata": {},
   "outputs": [],
   "source": []
  },
  {
   "cell_type": "code",
   "execution_count": null,
   "id": "bff13d33-eb80-4cf3-9f1c-c093e65ac7c7",
   "metadata": {},
   "outputs": [],
   "source": []
  },
  {
   "cell_type": "code",
   "execution_count": null,
   "id": "f63d4a4f-fa2b-4aa3-a66c-857bd5abff5c",
   "metadata": {},
   "outputs": [],
   "source": []
  }
 ],
 "metadata": {
  "kernelspec": {
   "display_name": "Python 3 (ipykernel)",
   "language": "python",
   "name": "python3"
  },
  "language_info": {
   "codemirror_mode": {
    "name": "ipython",
    "version": 3
   },
   "file_extension": ".py",
   "mimetype": "text/x-python",
   "name": "python",
   "nbconvert_exporter": "python",
   "pygments_lexer": "ipython3",
   "version": "3.10.6"
  }
 },
 "nbformat": 4,
 "nbformat_minor": 5
}
